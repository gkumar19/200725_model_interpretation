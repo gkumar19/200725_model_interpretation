{
 "cells": [
  {
   "cell_type": "code",
   "execution_count": null,
   "metadata": {},
   "outputs": [],
   "source": [
    "import numpy as np\n",
    "import shap\n",
    "from sklearn.linear_model import LinearRegression\n",
    "import matplotlib.pyplot as plt\n",
    "import pandas as pd\n",
    "import plotly.express as px\n",
    "#Link: https://github.com/slundberg/shap"
   ]
  },
  {
   "cell_type": "code",
   "execution_count": null,
   "metadata": {},
   "outputs": [],
   "source": [
    "m = 1000\n",
    "n = 2\n",
    "X = pd.DataFrame(np.random.rand(m, n), columns=['x'+ str(i) for i in range(1, n+1)])\n",
    "y = 3*X.iloc[:,0] + 6*X.iloc[:,1]"
   ]
  },
  {
   "cell_type": "code",
   "execution_count": null,
   "metadata": {},
   "outputs": [],
   "source": [
    "Xy = X.copy()\n",
    "Xy['target'] = y"
   ]
  },
  {
   "cell_type": "code",
   "execution_count": null,
   "metadata": {},
   "outputs": [],
   "source": [
    "fig = px.scatter_3d(Xy, 'x1', 'x2', 'target')\n",
    "fig.update_traces(marker_size=2)"
   ]
  },
  {
   "cell_type": "code",
   "execution_count": null,
   "metadata": {},
   "outputs": [],
   "source": [
    "model = LinearRegression().fit(X, y)\n",
    "y_pred = model.predict(X)\n",
    "Xy['pred'] = y_pred"
   ]
  },
  {
   "cell_type": "code",
   "execution_count": null,
   "metadata": {},
   "outputs": [],
   "source": [
    "plt.scatter(Xy['target'], Xy['pred'])\n",
    "print(model.score(X, y))\n",
    "print(model.coef_)"
   ]
  },
  {
   "cell_type": "code",
   "execution_count": null,
   "metadata": {},
   "outputs": [],
   "source": [
    "num_data_rows = 1000\n",
    "shap_explainer = shap.LinearExplainer(model, X[:num_data_rows],\n",
    "                                      nsamples=100,\n",
    "                                      feature_perturbation=None)\n",
    "#Different model for Tree based model and NN and generic models\n",
    "print('mean model prediction: ', model.predict(Xy[:num_data_rows][['x1', 'x2']].mean()[None,:])[0])\n",
    "print('shap_explainer expected_value: ', shap_explainer.expected_value)"
   ]
  },
  {
   "cell_type": "code",
   "execution_count": null,
   "metadata": {},
   "outputs": [],
   "source": [
    "X_vals = pd.DataFrame([[0, 0],\n",
    "                      [1, 1],\n",
    "                      [1, 0],\n",
    "                      [0.5, 0.5]], columns=X.columns)\n",
    "shap_values = shap_explainer.shap_values(X_vals)\n",
    "i = 1\n",
    "print(shap_values[i])\n",
    "print(((X[:num_data_rows].mean() - X_vals.iloc[i])*model.coef_).tolist())\n",
    "shap.initjs()\n",
    "shap.force_plot(shap_explainer.expected_value, shap_values[i], features=X_vals.iloc[i].values,\n",
    "               matplotlib=False, feature_names=X_vals.columns, out_names='target')"
   ]
  },
  {
   "cell_type": "code",
   "execution_count": null,
   "metadata": {},
   "outputs": [],
   "source": [
    "shap.force_plot(shap_explainer.expected_value, shap_values, features=X_vals.values,\n",
    "               matplotlib=False, feature_names=X_vals.columns, out_names='target')"
   ]
  },
  {
   "cell_type": "code",
   "execution_count": null,
   "metadata": {},
   "outputs": [],
   "source": [
    "#Feature importance\n",
    "shap_values = shap_explainer.shap_values(X)\n",
    "shap.summary_plot(shap_values, X)\n",
    "shap.summary_plot(shap_values, X, plot_type='violin')\n",
    "shap.summary_plot(shap_values, X, plot_type='bar')"
   ]
  },
  {
   "cell_type": "code",
   "execution_count": null,
   "metadata": {},
   "outputs": [],
   "source": [
    "#Partial Dependence Plots\n",
    "shap.dependence_plot(\"x1\", shap_values, X)\n",
    "shap.dependence_plot(\"x2\", shap_values, X)"
   ]
  }
 ],
 "metadata": {
  "kernelspec": {
   "display_name": "Python 3",
   "language": "python",
   "name": "python3"
  },
  "language_info": {
   "codemirror_mode": {
    "name": "ipython",
    "version": 3
   },
   "file_extension": ".py",
   "mimetype": "text/x-python",
   "name": "python",
   "nbconvert_exporter": "python",
   "pygments_lexer": "ipython3",
   "version": "3.7.7"
  }
 },
 "nbformat": 4,
 "nbformat_minor": 4
}
